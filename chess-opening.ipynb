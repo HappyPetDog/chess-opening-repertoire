{
 "cells": [
  {
   "cell_type": "markdown",
   "metadata": {},
   "source": [
    "# **Popular Chess Openings based on Rating and Time Control**\n",
    "\n",
    "\n"
   ]
  },
  {
   "cell_type": "markdown",
   "metadata": {},
   "source": [
    "This Python Notebook aims to gather the most popular chess opening repertoire depending on the player's rating and chosen time control, which will help the player know what opening is played the most at their specific level and time format. By analyzing a large dataset of chess games from various online platforms, this project will identify patterns and trends in opening choices among players of different skill levels (e.g., beginner, intermediate, advanced) and across different time controls (e.g., classical, rapid, blitz). The insights derived from this analysis can provide players with a strategic advantage by informing them of commonly encountered openings in their games, enabling them to add these to their arsenal and improve their overall performance."
   ]
  },
  {
   "cell_type": "markdown",
   "metadata": {},
   "source": [
    "## **Importing libraries**"
   ]
  },
  {
   "cell_type": "code",
   "execution_count": 6,
   "metadata": {},
   "outputs": [],
   "source": [
    "import pandas as pd\n",
    "import numpy as np\n",
    "import chess.pgn\n",
    "\n"
   ]
  },
  {
   "cell_type": "markdown",
   "metadata": {},
   "source": [
    "## **Parsing the PGN file**"
   ]
  },
  {
   "cell_type": "markdown",
   "metadata": {},
   "source": [
    "The games found in the PGN file is extracted from the database of FICS (Free Internet Chess Server). The link to the website can be found [here](https://www.ficsgames.org/download.html). The games extracted were from the entire year of 2023, and it included every time control and every player rating.  "
   ]
  },
  {
   "cell_type": "code",
   "execution_count": 7,
   "metadata": {},
   "outputs": [],
   "source": [
    "# # Initialize an empty dictionary to store the game data\n",
    "# game_data = {\n",
    "#     \"Result\": [],\n",
    "#     \"WhiteElo\": [], \n",
    "#     \"BlackElo\": [],\n",
    "#     \"TimeControl\": [], \n",
    "#     \"ECO\": []\n",
    "# }\n",
    "\n",
    "# num_games = 1\n",
    "\n",
    "# with open(\"./dataset/2023_fics_games.pgn\") as pgn_file:\n",
    "#     # Parse the first game in the file\n",
    "#     game = chess.pgn.read_game(pgn_file)\n",
    "#     print(game.headers)\n",
    "\n",
    "#     # Iterate through all games in the file\n",
    "#     while game is not None:\n",
    "#         print(f\"Processing game {num_games}\", end=\"\\r\")\n",
    "#         # Append game headers (metadata) to the game_data dictionary\n",
    "#         for key in game_data.keys():\n",
    "#             if key in game.headers:\n",
    "#                 game_data[key].append(game.headers[key])\n",
    "#             else:\n",
    "#                 game_data[key].append(None)    \n",
    "#         # Read the next game in the file\n",
    "#         game = chess.pgn.read_game(pgn_file)\n",
    "#         num_games += 1\n",
    "#         if num_games > 1000000:\n",
    "#             break\n",
    "# print(f\"Done parsing the games. Total games: {num_games}\")\n",
    "\n",
    "# # Convert the game_data dictionary into a DataFrame\n",
    "# df = pd.DataFrame(game_data)\n",
    "# df.head()"
   ]
  },
  {
   "cell_type": "markdown",
   "metadata": {},
   "source": [
    "Before we proceed, let's save this dataframe into a `.csv` file. "
   ]
  },
  {
   "cell_type": "code",
   "execution_count": 8,
   "metadata": {},
   "outputs": [],
   "source": [
    "# df.to_csv(\"./dataset/2023_fics_games.csv\", index=False)"
   ]
  },
  {
   "cell_type": "markdown",
   "metadata": {},
   "source": [
    "## **Preprocessing the dataset**"
   ]
  },
  {
   "cell_type": "markdown",
   "metadata": {},
   "source": [
    "The dataset used for this project comprises approximately 1,000,000 chess games that were played on ficgames.org. Each game record includes details such as the result, time control, player ratings, and opening ECO code."
   ]
  },
  {
   "cell_type": "code",
   "execution_count": 9,
   "metadata": {},
   "outputs": [
    {
     "data": {
      "text/html": [
       "<div>\n",
       "<style scoped>\n",
       "    .dataframe tbody tr th:only-of-type {\n",
       "        vertical-align: middle;\n",
       "    }\n",
       "\n",
       "    .dataframe tbody tr th {\n",
       "        vertical-align: top;\n",
       "    }\n",
       "\n",
       "    .dataframe thead th {\n",
       "        text-align: right;\n",
       "    }\n",
       "</style>\n",
       "<table border=\"1\" class=\"dataframe\">\n",
       "  <thead>\n",
       "    <tr style=\"text-align: right;\">\n",
       "      <th></th>\n",
       "      <th>Result</th>\n",
       "      <th>WhiteElo</th>\n",
       "      <th>BlackElo</th>\n",
       "      <th>TimeControl</th>\n",
       "      <th>ECO</th>\n",
       "    </tr>\n",
       "  </thead>\n",
       "  <tbody>\n",
       "    <tr>\n",
       "      <th>0</th>\n",
       "      <td>1-0</td>\n",
       "      <td>1491</td>\n",
       "      <td>1554</td>\n",
       "      <td>blitz</td>\n",
       "      <td>D58</td>\n",
       "    </tr>\n",
       "    <tr>\n",
       "      <th>1</th>\n",
       "      <td>0-1</td>\n",
       "      <td>1520</td>\n",
       "      <td>1458</td>\n",
       "      <td>rapid</td>\n",
       "      <td>B02</td>\n",
       "    </tr>\n",
       "    <tr>\n",
       "      <th>2</th>\n",
       "      <td>1-0</td>\n",
       "      <td>1613</td>\n",
       "      <td>1553</td>\n",
       "      <td>rapid</td>\n",
       "      <td>C00</td>\n",
       "    </tr>\n",
       "    <tr>\n",
       "      <th>3</th>\n",
       "      <td>1-0</td>\n",
       "      <td>1338</td>\n",
       "      <td>1411</td>\n",
       "      <td>blitz</td>\n",
       "      <td>A40</td>\n",
       "    </tr>\n",
       "    <tr>\n",
       "      <th>4</th>\n",
       "      <td>0-1</td>\n",
       "      <td>1504</td>\n",
       "      <td>1608</td>\n",
       "      <td>blitz</td>\n",
       "      <td>D02</td>\n",
       "    </tr>\n",
       "  </tbody>\n",
       "</table>\n",
       "</div>"
      ],
      "text/plain": [
       "  Result  WhiteElo  BlackElo TimeControl  ECO\n",
       "0    1-0      1491      1554       blitz  D58\n",
       "1    0-1      1520      1458       rapid  B02\n",
       "2    1-0      1613      1553       rapid  C00\n",
       "3    1-0      1338      1411       blitz  A40\n",
       "4    0-1      1504      1608       blitz  D02"
      ]
     },
     "execution_count": 9,
     "metadata": {},
     "output_type": "execute_result"
    }
   ],
   "source": [
    "df = pd.read_csv(\"./dataset/2023_fics_games.csv\") \n",
    "df.head()"
   ]
  },
  {
   "cell_type": "markdown",
   "metadata": {},
   "source": [
    "Let's see the shape of the dataset. "
   ]
  },
  {
   "cell_type": "code",
   "execution_count": 10,
   "metadata": {},
   "outputs": [
    {
     "data": {
      "text/plain": [
       "(999990, 5)"
      ]
     },
     "execution_count": 10,
     "metadata": {},
     "output_type": "execute_result"
    }
   ],
   "source": [
    "df.shape"
   ]
  },
  {
   "cell_type": "markdown",
   "metadata": {},
   "source": [
    "Let's also see the number of columns and its datatype. "
   ]
  },
  {
   "cell_type": "code",
   "execution_count": 11,
   "metadata": {},
   "outputs": [
    {
     "name": "stdout",
     "output_type": "stream",
     "text": [
      "<class 'pandas.core.frame.DataFrame'>\n",
      "RangeIndex: 999990 entries, 0 to 999989\n",
      "Data columns (total 5 columns):\n",
      " #   Column       Non-Null Count   Dtype \n",
      "---  ------       --------------   ----- \n",
      " 0   Result       999990 non-null  object\n",
      " 1   WhiteElo     999990 non-null  int64 \n",
      " 2   BlackElo     999990 non-null  int64 \n",
      " 3   TimeControl  999990 non-null  object\n",
      " 4   ECO          999990 non-null  object\n",
      "dtypes: int64(2), object(3)\n",
      "memory usage: 38.1+ MB\n"
     ]
    }
   ],
   "source": [
    "df.info()"
   ]
  },
  {
   "cell_type": "markdown",
   "metadata": {},
   "source": [
    "We can see that there are rows that have null values on the `ECO` column. Let's simply drop these. "
   ]
  },
  {
   "cell_type": "code",
   "execution_count": 12,
   "metadata": {},
   "outputs": [
    {
     "name": "stdout",
     "output_type": "stream",
     "text": [
      "<class 'pandas.core.frame.DataFrame'>\n",
      "RangeIndex: 999990 entries, 0 to 999989\n",
      "Data columns (total 5 columns):\n",
      " #   Column       Non-Null Count   Dtype \n",
      "---  ------       --------------   ----- \n",
      " 0   Result       999990 non-null  object\n",
      " 1   WhiteElo     999990 non-null  int64 \n",
      " 2   BlackElo     999990 non-null  int64 \n",
      " 3   TimeControl  999990 non-null  object\n",
      " 4   ECO          999990 non-null  object\n",
      "dtypes: int64(2), object(3)\n",
      "memory usage: 38.1+ MB\n"
     ]
    }
   ],
   "source": [
    "df.dropna(subset=['ECO'], inplace=True)\n",
    "df.info()"
   ]
  },
  {
   "cell_type": "markdown",
   "metadata": {},
   "source": [
    "Note that I haved grouped the original values in `TimeControl` (i.e. 180+0, 120+12) into `classical`, `blitz`, `rapid`, and `bullet` for better readability. The grouping was based on what is used by lichess.org, which can be seen [here](https://lichess.org/faq#time-controls). \n",
    "\n",
    "The estimated game duration will be computed using this formula: \n",
    "\n",
    "`estimated game duration = (clock initial time) + 40 × (clock increment)`\n",
    "\n",
    "This was how the resulting duration will be grouped:\n",
    "* < 179s = `bullet`\n",
    "* < 479s = `blitz`\n",
    "* < 1500s = `rapid`\n",
    "* ≥ 1500s = `classical`"
   ]
  },
  {
   "cell_type": "markdown",
   "metadata": {},
   "source": [
    "Before we proceed, let's see the number of games played using a specific time control. "
   ]
  },
  {
   "cell_type": "code",
   "execution_count": 13,
   "metadata": {},
   "outputs": [
    {
     "data": {
      "text/plain": [
       "TimeControl\n",
       "blitz        759410\n",
       "rapid        209144\n",
       "bullet        24106\n",
       "classical      7330\n",
       "Name: count, dtype: int64"
      ]
     },
     "execution_count": 13,
     "metadata": {},
     "output_type": "execute_result"
    }
   ],
   "source": [
    "df['TimeControl'].value_counts()"
   ]
  },
  {
   "cell_type": "markdown",
   "metadata": {},
   "source": [
    "Now, let's group the ratings based on this criteria found in this [forum](https://lichess.org/forum/general-chess-discussion/what-is-a-good-lichess-rating) on Lichess:\n",
    "* < 1300 = `beginner`\n",
    "* < 2000 = `intermediate`\n",
    "* < 2400 = `advanced`\n",
    "* < 2700 = `master`\n",
    "* ≥ 2700 = `grandmaster`"
   ]
  },
  {
   "cell_type": "code",
   "execution_count": 14,
   "metadata": {},
   "outputs": [
    {
     "data": {
      "text/html": [
       "<div>\n",
       "<style scoped>\n",
       "    .dataframe tbody tr th:only-of-type {\n",
       "        vertical-align: middle;\n",
       "    }\n",
       "\n",
       "    .dataframe tbody tr th {\n",
       "        vertical-align: top;\n",
       "    }\n",
       "\n",
       "    .dataframe thead th {\n",
       "        text-align: right;\n",
       "    }\n",
       "</style>\n",
       "<table border=\"1\" class=\"dataframe\">\n",
       "  <thead>\n",
       "    <tr style=\"text-align: right;\">\n",
       "      <th></th>\n",
       "      <th>Result</th>\n",
       "      <th>WhiteElo</th>\n",
       "      <th>BlackElo</th>\n",
       "      <th>TimeControl</th>\n",
       "      <th>ECO</th>\n",
       "      <th>WhiteLevel</th>\n",
       "      <th>BlackLevel</th>\n",
       "    </tr>\n",
       "  </thead>\n",
       "  <tbody>\n",
       "    <tr>\n",
       "      <th>0</th>\n",
       "      <td>1-0</td>\n",
       "      <td>1491</td>\n",
       "      <td>1554</td>\n",
       "      <td>blitz</td>\n",
       "      <td>D58</td>\n",
       "      <td>intermediate</td>\n",
       "      <td>intermediate</td>\n",
       "    </tr>\n",
       "    <tr>\n",
       "      <th>1</th>\n",
       "      <td>0-1</td>\n",
       "      <td>1520</td>\n",
       "      <td>1458</td>\n",
       "      <td>rapid</td>\n",
       "      <td>B02</td>\n",
       "      <td>intermediate</td>\n",
       "      <td>intermediate</td>\n",
       "    </tr>\n",
       "    <tr>\n",
       "      <th>2</th>\n",
       "      <td>1-0</td>\n",
       "      <td>1613</td>\n",
       "      <td>1553</td>\n",
       "      <td>rapid</td>\n",
       "      <td>C00</td>\n",
       "      <td>intermediate</td>\n",
       "      <td>intermediate</td>\n",
       "    </tr>\n",
       "    <tr>\n",
       "      <th>3</th>\n",
       "      <td>1-0</td>\n",
       "      <td>1338</td>\n",
       "      <td>1411</td>\n",
       "      <td>blitz</td>\n",
       "      <td>A40</td>\n",
       "      <td>intermediate</td>\n",
       "      <td>intermediate</td>\n",
       "    </tr>\n",
       "    <tr>\n",
       "      <th>4</th>\n",
       "      <td>0-1</td>\n",
       "      <td>1504</td>\n",
       "      <td>1608</td>\n",
       "      <td>blitz</td>\n",
       "      <td>D02</td>\n",
       "      <td>intermediate</td>\n",
       "      <td>intermediate</td>\n",
       "    </tr>\n",
       "  </tbody>\n",
       "</table>\n",
       "</div>"
      ],
      "text/plain": [
       "  Result  WhiteElo  BlackElo TimeControl  ECO    WhiteLevel    BlackLevel\n",
       "0    1-0      1491      1554       blitz  D58  intermediate  intermediate\n",
       "1    0-1      1520      1458       rapid  B02  intermediate  intermediate\n",
       "2    1-0      1613      1553       rapid  C00  intermediate  intermediate\n",
       "3    1-0      1338      1411       blitz  A40  intermediate  intermediate\n",
       "4    0-1      1504      1608       blitz  D02  intermediate  intermediate"
      ]
     },
     "execution_count": 14,
     "metadata": {},
     "output_type": "execute_result"
    }
   ],
   "source": [
    "white_rating_conditions = [\n",
    "    (df['WhiteElo'] < 1300), \n",
    "    (df['WhiteElo'] >= 1300) & (df['WhiteElo'] < 2000),\n",
    "    (df['WhiteElo'] >= 2000) & (df['WhiteElo'] < 2700),\n",
    "    (df['WhiteElo'] >= 2700)\n",
    "]\n",
    "\n",
    "black_rating_conditions = [\n",
    "    (df['BlackElo'] < 1300), \n",
    "    (df['BlackElo'] >= 1300) & (df['BlackElo'] < 2000),\n",
    "    (df['BlackElo'] >= 2000) & (df['BlackElo'] < 2700),\n",
    "    (df['BlackElo'] >= 2700)\n",
    "]\n",
    "\n",
    "rating_choices = ['beginner', 'intermediate', 'advanced', 'grandmaster']\n",
    "\n",
    "df['WhiteLevel'] = np.select(white_rating_conditions, rating_choices, default='unknown')\n",
    "df['BlackLevel'] = np.select(black_rating_conditions, rating_choices, default='unknown')\n",
    "df.head()"
   ]
  },
  {
   "cell_type": "markdown",
   "metadata": {},
   "source": [
    "Now that there is a `WhiteLevel` and `BlackLevel` columns, we can now remove the `WhiteElo` and `BlackElo` columns. "
   ]
  },
  {
   "cell_type": "code",
   "execution_count": 16,
   "metadata": {},
   "outputs": [
    {
     "data": {
      "text/html": [
       "<div>\n",
       "<style scoped>\n",
       "    .dataframe tbody tr th:only-of-type {\n",
       "        vertical-align: middle;\n",
       "    }\n",
       "\n",
       "    .dataframe tbody tr th {\n",
       "        vertical-align: top;\n",
       "    }\n",
       "\n",
       "    .dataframe thead th {\n",
       "        text-align: right;\n",
       "    }\n",
       "</style>\n",
       "<table border=\"1\" class=\"dataframe\">\n",
       "  <thead>\n",
       "    <tr style=\"text-align: right;\">\n",
       "      <th></th>\n",
       "      <th>Result</th>\n",
       "      <th>TimeControl</th>\n",
       "      <th>ECO</th>\n",
       "      <th>WhiteLevel</th>\n",
       "      <th>BlackLevel</th>\n",
       "    </tr>\n",
       "  </thead>\n",
       "  <tbody>\n",
       "    <tr>\n",
       "      <th>0</th>\n",
       "      <td>1-0</td>\n",
       "      <td>blitz</td>\n",
       "      <td>D58</td>\n",
       "      <td>intermediate</td>\n",
       "      <td>intermediate</td>\n",
       "    </tr>\n",
       "    <tr>\n",
       "      <th>1</th>\n",
       "      <td>0-1</td>\n",
       "      <td>rapid</td>\n",
       "      <td>B02</td>\n",
       "      <td>intermediate</td>\n",
       "      <td>intermediate</td>\n",
       "    </tr>\n",
       "    <tr>\n",
       "      <th>2</th>\n",
       "      <td>1-0</td>\n",
       "      <td>rapid</td>\n",
       "      <td>C00</td>\n",
       "      <td>intermediate</td>\n",
       "      <td>intermediate</td>\n",
       "    </tr>\n",
       "    <tr>\n",
       "      <th>3</th>\n",
       "      <td>1-0</td>\n",
       "      <td>blitz</td>\n",
       "      <td>A40</td>\n",
       "      <td>intermediate</td>\n",
       "      <td>intermediate</td>\n",
       "    </tr>\n",
       "    <tr>\n",
       "      <th>4</th>\n",
       "      <td>0-1</td>\n",
       "      <td>blitz</td>\n",
       "      <td>D02</td>\n",
       "      <td>intermediate</td>\n",
       "      <td>intermediate</td>\n",
       "    </tr>\n",
       "  </tbody>\n",
       "</table>\n",
       "</div>"
      ],
      "text/plain": [
       "  Result TimeControl  ECO    WhiteLevel    BlackLevel\n",
       "0    1-0       blitz  D58  intermediate  intermediate\n",
       "1    0-1       rapid  B02  intermediate  intermediate\n",
       "2    1-0       rapid  C00  intermediate  intermediate\n",
       "3    1-0       blitz  A40  intermediate  intermediate\n",
       "4    0-1       blitz  D02  intermediate  intermediate"
      ]
     },
     "execution_count": 16,
     "metadata": {},
     "output_type": "execute_result"
    }
   ],
   "source": [
    "df = df.drop([\"WhiteElo\", \"BlackElo\"], axis=1)\n",
    "df.head()"
   ]
  },
  {
   "cell_type": "markdown",
   "metadata": {},
   "source": [
    "Let's remove the rows in which black and white belong to different groups in terms of rating. "
   ]
  },
  {
   "cell_type": "code",
   "execution_count": 18,
   "metadata": {},
   "outputs": [
    {
     "data": {
      "text/plain": [
       "(841570, 5)"
      ]
     },
     "execution_count": 18,
     "metadata": {},
     "output_type": "execute_result"
    }
   ],
   "source": [
    "df_same_rating = df.loc[df['WhiteLevel'] == df['BlackLevel']]\n",
    "df_same_rating.shape"
   ]
  },
  {
   "cell_type": "markdown",
   "metadata": {},
   "source": [
    "Let's see the number of games played depending on the level of the players. "
   ]
  },
  {
   "cell_type": "code",
   "execution_count": 19,
   "metadata": {},
   "outputs": [
    {
     "data": {
      "text/plain": [
       "WhiteLevel\n",
       "intermediate    800189\n",
       "beginner         28772\n",
       "advanced         11368\n",
       "grandmaster       1241\n",
       "Name: count, dtype: int64"
      ]
     },
     "execution_count": 19,
     "metadata": {},
     "output_type": "execute_result"
    }
   ],
   "source": [
    "df_same_rating['WhiteLevel'].value_counts()"
   ]
  },
  {
   "cell_type": "markdown",
   "metadata": {},
   "source": [
    "`grandmaster` hass too few games played. Let's combine them with the `advanced`. "
   ]
  },
  {
   "cell_type": "code",
   "execution_count": 24,
   "metadata": {},
   "outputs": [
    {
     "name": "stderr",
     "output_type": "stream",
     "text": [
      "/tmp/ipykernel_77023/3993807121.py:1: SettingWithCopyWarning: \n",
      "A value is trying to be set on a copy of a slice from a DataFrame.\n",
      "Try using .loc[row_indexer,col_indexer] = value instead\n",
      "\n",
      "See the caveats in the documentation: https://pandas.pydata.org/pandas-docs/stable/user_guide/indexing.html#returning-a-view-versus-a-copy\n",
      "  df_same_rating['WhiteLevel'] = df_same_rating['WhiteLevel'].where(df_same_rating['WhiteLevel'] != \"grandmaster\", \"advanced\")\n",
      "/tmp/ipykernel_77023/3993807121.py:2: SettingWithCopyWarning: \n",
      "A value is trying to be set on a copy of a slice from a DataFrame.\n",
      "Try using .loc[row_indexer,col_indexer] = value instead\n",
      "\n",
      "See the caveats in the documentation: https://pandas.pydata.org/pandas-docs/stable/user_guide/indexing.html#returning-a-view-versus-a-copy\n",
      "  df_same_rating['BlackLevel'] = df_same_rating['BlackLevel'].where(df_same_rating['BlackLevel'] != \"grandmaster\", \"advanced\")\n"
     ]
    },
    {
     "data": {
      "text/plain": [
       "WhiteLevel\n",
       "intermediate    800189\n",
       "beginner         28772\n",
       "advanced         12609\n",
       "Name: count, dtype: int64"
      ]
     },
     "execution_count": 24,
     "metadata": {},
     "output_type": "execute_result"
    }
   ],
   "source": [
    "df_same_rating['WhiteLevel'] = df_same_rating['WhiteLevel'].where(df_same_rating['WhiteLevel'] != \"grandmaster\", \"advanced\")\n",
    "df_same_rating['BlackLevel'] = df_same_rating['BlackLevel'].where(df_same_rating['BlackLevel'] != \"grandmaster\", \"advanced\")\n",
    "df_same_rating['WhiteLevel'].value_counts()"
   ]
  },
  {
   "cell_type": "markdown",
   "metadata": {},
   "source": [
    "Let's also see the number of games played based on the opening. "
   ]
  },
  {
   "cell_type": "code",
   "execution_count": 34,
   "metadata": {},
   "outputs": [
    {
     "data": {
      "text/html": [
       "<div>\n",
       "<style scoped>\n",
       "    .dataframe tbody tr th:only-of-type {\n",
       "        vertical-align: middle;\n",
       "    }\n",
       "\n",
       "    .dataframe tbody tr th {\n",
       "        vertical-align: top;\n",
       "    }\n",
       "\n",
       "    .dataframe thead th {\n",
       "        text-align: right;\n",
       "    }\n",
       "</style>\n",
       "<table border=\"1\" class=\"dataframe\">\n",
       "  <thead>\n",
       "    <tr style=\"text-align: right;\">\n",
       "      <th></th>\n",
       "      <th>ECO</th>\n",
       "      <th>Count</th>\n",
       "    </tr>\n",
       "  </thead>\n",
       "  <tbody>\n",
       "    <tr>\n",
       "      <th>0</th>\n",
       "      <td>A00</td>\n",
       "      <td>57622</td>\n",
       "    </tr>\n",
       "    <tr>\n",
       "      <th>23</th>\n",
       "      <td>A01</td>\n",
       "      <td>8272</td>\n",
       "    </tr>\n",
       "    <tr>\n",
       "      <th>35</th>\n",
       "      <td>A02</td>\n",
       "      <td>6334</td>\n",
       "    </tr>\n",
       "    <tr>\n",
       "      <th>44</th>\n",
       "      <td>A03</td>\n",
       "      <td>4681</td>\n",
       "    </tr>\n",
       "    <tr>\n",
       "      <th>14</th>\n",
       "      <td>A04</td>\n",
       "      <td>11205</td>\n",
       "    </tr>\n",
       "    <tr>\n",
       "      <th>...</th>\n",
       "      <td>...</td>\n",
       "      <td>...</td>\n",
       "    </tr>\n",
       "    <tr>\n",
       "      <th>389</th>\n",
       "      <td>E95</td>\n",
       "      <td>24</td>\n",
       "    </tr>\n",
       "    <tr>\n",
       "      <th>492</th>\n",
       "      <td>E96</td>\n",
       "      <td>1</td>\n",
       "    </tr>\n",
       "    <tr>\n",
       "      <th>234</th>\n",
       "      <td>E97</td>\n",
       "      <td>159</td>\n",
       "    </tr>\n",
       "    <tr>\n",
       "      <th>373</th>\n",
       "      <td>E98</td>\n",
       "      <td>30</td>\n",
       "    </tr>\n",
       "    <tr>\n",
       "      <th>412</th>\n",
       "      <td>E99</td>\n",
       "      <td>16</td>\n",
       "    </tr>\n",
       "  </tbody>\n",
       "</table>\n",
       "<p>495 rows × 2 columns</p>\n",
       "</div>"
      ],
      "text/plain": [
       "     ECO  Count\n",
       "0    A00  57622\n",
       "23   A01   8272\n",
       "35   A02   6334\n",
       "44   A03   4681\n",
       "14   A04  11205\n",
       "..   ...    ...\n",
       "389  E95     24\n",
       "492  E96      1\n",
       "234  E97    159\n",
       "373  E98     30\n",
       "412  E99     16\n",
       "\n",
       "[495 rows x 2 columns]"
      ]
     },
     "execution_count": 34,
     "metadata": {},
     "output_type": "execute_result"
    }
   ],
   "source": [
    "df_games_played_per_opening = df_same_rating['ECO'].value_counts().reset_index()\n",
    "df_games_played_per_opening.columns = ['ECO', 'Count']\n",
    "df_games_played_per_opening.sort_values(by='ECO', inplace=True)\n",
    "df_games_played_per_opening"
   ]
  },
  {
   "cell_type": "markdown",
   "metadata": {},
   "source": [
    "Finally, let's reorder the columns and rows for better readability. "
   ]
  },
  {
   "cell_type": "code",
   "execution_count": 35,
   "metadata": {},
   "outputs": [
    {
     "data": {
      "text/html": [
       "<div>\n",
       "<style scoped>\n",
       "    .dataframe tbody tr th:only-of-type {\n",
       "        vertical-align: middle;\n",
       "    }\n",
       "\n",
       "    .dataframe tbody tr th {\n",
       "        vertical-align: top;\n",
       "    }\n",
       "\n",
       "    .dataframe thead th {\n",
       "        text-align: right;\n",
       "    }\n",
       "</style>\n",
       "<table border=\"1\" class=\"dataframe\">\n",
       "  <thead>\n",
       "    <tr style=\"text-align: right;\">\n",
       "      <th></th>\n",
       "      <th>Result</th>\n",
       "      <th>WhiteLevel</th>\n",
       "      <th>BlackLevel</th>\n",
       "      <th>TimeControl</th>\n",
       "      <th>ECO</th>\n",
       "    </tr>\n",
       "  </thead>\n",
       "  <tbody>\n",
       "    <tr>\n",
       "      <th>0</th>\n",
       "      <td>0-1</td>\n",
       "      <td>intermediate</td>\n",
       "      <td>intermediate</td>\n",
       "      <td>blitz</td>\n",
       "      <td>A00</td>\n",
       "    </tr>\n",
       "    <tr>\n",
       "      <th>1</th>\n",
       "      <td>1-0</td>\n",
       "      <td>intermediate</td>\n",
       "      <td>intermediate</td>\n",
       "      <td>blitz</td>\n",
       "      <td>A00</td>\n",
       "    </tr>\n",
       "    <tr>\n",
       "      <th>2</th>\n",
       "      <td>1-0</td>\n",
       "      <td>intermediate</td>\n",
       "      <td>intermediate</td>\n",
       "      <td>blitz</td>\n",
       "      <td>A00</td>\n",
       "    </tr>\n",
       "    <tr>\n",
       "      <th>3</th>\n",
       "      <td>1-0</td>\n",
       "      <td>intermediate</td>\n",
       "      <td>intermediate</td>\n",
       "      <td>blitz</td>\n",
       "      <td>A00</td>\n",
       "    </tr>\n",
       "    <tr>\n",
       "      <th>4</th>\n",
       "      <td>0-1</td>\n",
       "      <td>intermediate</td>\n",
       "      <td>intermediate</td>\n",
       "      <td>blitz</td>\n",
       "      <td>A00</td>\n",
       "    </tr>\n",
       "  </tbody>\n",
       "</table>\n",
       "</div>"
      ],
      "text/plain": [
       "  Result    WhiteLevel    BlackLevel TimeControl  ECO\n",
       "0    0-1  intermediate  intermediate       blitz  A00\n",
       "1    1-0  intermediate  intermediate       blitz  A00\n",
       "2    1-0  intermediate  intermediate       blitz  A00\n",
       "3    1-0  intermediate  intermediate       blitz  A00\n",
       "4    0-1  intermediate  intermediate       blitz  A00"
      ]
     },
     "execution_count": 35,
     "metadata": {},
     "output_type": "execute_result"
    }
   ],
   "source": [
    "df_preprocessed = df_same_rating.reindex(columns=['Result', 'WhiteLevel', 'BlackLevel', 'TimeControl', 'ECO'])\n",
    "df_preprocessed.reset_index(drop=True, inplace=True)\n",
    "df_preprocessed.head()"
   ]
  },
  {
   "cell_type": "markdown",
   "metadata": {},
   "source": [
    "The data preprocessing is now done! Let's save it into a new `.csv` file. "
   ]
  },
  {
   "cell_type": "code",
   "execution_count": 37,
   "metadata": {},
   "outputs": [],
   "source": [
    "df_preprocessed.to_csv(\"./dataset/cleaned_dataset.csv\", index=False)"
   ]
  },
  {
   "cell_type": "markdown",
   "metadata": {},
   "source": [
    "## **Data Exploration**"
   ]
  },
  {
   "cell_type": "markdown",
   "metadata": {},
   "source": [
    "Now that the dataset is cleaned, we can now explore the data and see if we can extract useful information from it. First, let's see every opening repertoire and their respective overall usage. "
   ]
  },
  {
   "cell_type": "code",
   "execution_count": null,
   "metadata": {},
   "outputs": [
    {
     "data": {
      "text/html": [
       "<div>\n",
       "<style scoped>\n",
       "    .dataframe tbody tr th:only-of-type {\n",
       "        vertical-align: middle;\n",
       "    }\n",
       "\n",
       "    .dataframe tbody tr th {\n",
       "        vertical-align: top;\n",
       "    }\n",
       "\n",
       "    .dataframe thead th {\n",
       "        text-align: right;\n",
       "    }\n",
       "</style>\n",
       "<table border=\"1\" class=\"dataframe\">\n",
       "  <thead>\n",
       "    <tr style=\"text-align: right;\">\n",
       "      <th></th>\n",
       "      <th>opening_name</th>\n",
       "      <th>opening_eco</th>\n",
       "      <th>count</th>\n",
       "    </tr>\n",
       "  </thead>\n",
       "  <tbody>\n",
       "    <tr>\n",
       "      <th>0</th>\n",
       "      <td>Sicilian Defense: Bowdler Attack</td>\n",
       "      <td>B20</td>\n",
       "      <td>256</td>\n",
       "    </tr>\n",
       "    <tr>\n",
       "      <th>1</th>\n",
       "      <td>French Defense: Knight Variation</td>\n",
       "      <td>C00</td>\n",
       "      <td>218</td>\n",
       "    </tr>\n",
       "    <tr>\n",
       "      <th>2</th>\n",
       "      <td>Van't Kruijs Opening</td>\n",
       "      <td>A00</td>\n",
       "      <td>210</td>\n",
       "    </tr>\n",
       "    <tr>\n",
       "      <th>3</th>\n",
       "      <td>Queen's Pawn Game: Mason Attack</td>\n",
       "      <td>D00</td>\n",
       "      <td>196</td>\n",
       "    </tr>\n",
       "    <tr>\n",
       "      <th>4</th>\n",
       "      <td>Scandinavian Defense: Mieses-Kotroc Variation</td>\n",
       "      <td>B01</td>\n",
       "      <td>192</td>\n",
       "    </tr>\n",
       "    <tr>\n",
       "      <th>...</th>\n",
       "      <td>...</td>\n",
       "      <td>...</td>\n",
       "      <td>...</td>\n",
       "    </tr>\n",
       "    <tr>\n",
       "      <th>1387</th>\n",
       "      <td>Polish Opening: Bugayev Advance Variation</td>\n",
       "      <td>A00</td>\n",
       "      <td>1</td>\n",
       "    </tr>\n",
       "    <tr>\n",
       "      <th>1388</th>\n",
       "      <td>Polish Opening: Czech Defense</td>\n",
       "      <td>A00</td>\n",
       "      <td>1</td>\n",
       "    </tr>\n",
       "    <tr>\n",
       "      <th>1389</th>\n",
       "      <td>Polish Opening: Dutch Defense</td>\n",
       "      <td>A00</td>\n",
       "      <td>1</td>\n",
       "    </tr>\n",
       "    <tr>\n",
       "      <th>1390</th>\n",
       "      <td>Polish Opening: Grigorian Variation</td>\n",
       "      <td>A00</td>\n",
       "      <td>1</td>\n",
       "    </tr>\n",
       "    <tr>\n",
       "      <th>1391</th>\n",
       "      <td>Zukertort Opening: Wade Defense</td>\n",
       "      <td>A04</td>\n",
       "      <td>1</td>\n",
       "    </tr>\n",
       "  </tbody>\n",
       "</table>\n",
       "<p>1392 rows × 3 columns</p>\n",
       "</div>"
      ],
      "text/plain": [
       "                                       opening_name opening_eco  count\n",
       "0                  Sicilian Defense: Bowdler Attack         B20    256\n",
       "1                  French Defense: Knight Variation         C00    218\n",
       "2                              Van't Kruijs Opening         A00    210\n",
       "3                   Queen's Pawn Game: Mason Attack         D00    196\n",
       "4     Scandinavian Defense: Mieses-Kotroc Variation         B01    192\n",
       "...                                             ...         ...    ...\n",
       "1387      Polish Opening: Bugayev Advance Variation         A00      1\n",
       "1388                  Polish Opening: Czech Defense         A00      1\n",
       "1389                  Polish Opening: Dutch Defense         A00      1\n",
       "1390            Polish Opening: Grigorian Variation         A00      1\n",
       "1391                Zukertort Opening: Wade Defense         A04      1\n",
       "\n",
       "[1392 rows x 3 columns]"
      ]
     },
     "execution_count": 15,
     "metadata": {},
     "output_type": "execute_result"
    }
   ],
   "source": [
    "df_opening_usage = df.groupby(['opening_name', 'opening_eco']).size().reset_index(name='count')\n",
    "df_opening_usage.sort_values('count', inplace=True, ascending=False)\n",
    "df_opening_usage.reset_index(drop=True, inplace=True)\n",
    "df_opening_usage"
   ]
  },
  {
   "cell_type": "markdown",
   "metadata": {},
   "source": [
    "Now, let's see their win percentage when played as white. "
   ]
  },
  {
   "cell_type": "code",
   "execution_count": null,
   "metadata": {},
   "outputs": [
    {
     "data": {
      "text/html": [
       "<div>\n",
       "<style scoped>\n",
       "    .dataframe tbody tr th:only-of-type {\n",
       "        vertical-align: middle;\n",
       "    }\n",
       "\n",
       "    .dataframe tbody tr th {\n",
       "        vertical-align: top;\n",
       "    }\n",
       "\n",
       "    .dataframe thead th {\n",
       "        text-align: right;\n",
       "    }\n",
       "</style>\n",
       "<table border=\"1\" class=\"dataframe\">\n",
       "  <thead>\n",
       "    <tr style=\"text-align: right;\">\n",
       "      <th></th>\n",
       "      <th>opening_name</th>\n",
       "      <th>opening_eco</th>\n",
       "      <th>count</th>\n",
       "      <th>white_wins</th>\n",
       "      <th>win_percentage_as_white</th>\n",
       "    </tr>\n",
       "  </thead>\n",
       "  <tbody>\n",
       "    <tr>\n",
       "      <th>0</th>\n",
       "      <td>Sicilian Defense: Bowdler Attack</td>\n",
       "      <td>B20</td>\n",
       "      <td>256</td>\n",
       "      <td>103.0</td>\n",
       "      <td>0.402344</td>\n",
       "    </tr>\n",
       "    <tr>\n",
       "      <th>1</th>\n",
       "      <td>French Defense: Knight Variation</td>\n",
       "      <td>C00</td>\n",
       "      <td>218</td>\n",
       "      <td>108.0</td>\n",
       "      <td>0.495413</td>\n",
       "    </tr>\n",
       "    <tr>\n",
       "      <th>2</th>\n",
       "      <td>Van't Kruijs Opening</td>\n",
       "      <td>A00</td>\n",
       "      <td>210</td>\n",
       "      <td>68.0</td>\n",
       "      <td>0.323810</td>\n",
       "    </tr>\n",
       "    <tr>\n",
       "      <th>3</th>\n",
       "      <td>Queen's Pawn Game: Mason Attack</td>\n",
       "      <td>D00</td>\n",
       "      <td>196</td>\n",
       "      <td>95.0</td>\n",
       "      <td>0.484694</td>\n",
       "    </tr>\n",
       "    <tr>\n",
       "      <th>4</th>\n",
       "      <td>Scandinavian Defense: Mieses-Kotroc Variation</td>\n",
       "      <td>B01</td>\n",
       "      <td>192</td>\n",
       "      <td>112.0</td>\n",
       "      <td>0.583333</td>\n",
       "    </tr>\n",
       "  </tbody>\n",
       "</table>\n",
       "</div>"
      ],
      "text/plain": [
       "                                    opening_name opening_eco  count  \\\n",
       "0               Sicilian Defense: Bowdler Attack         B20    256   \n",
       "1               French Defense: Knight Variation         C00    218   \n",
       "2                           Van't Kruijs Opening         A00    210   \n",
       "3                Queen's Pawn Game: Mason Attack         D00    196   \n",
       "4  Scandinavian Defense: Mieses-Kotroc Variation         B01    192   \n",
       "\n",
       "   white_wins  win_percentage_as_white  \n",
       "0       103.0                 0.402344  \n",
       "1       108.0                 0.495413  \n",
       "2        68.0                 0.323810  \n",
       "3        95.0                 0.484694  \n",
       "4       112.0                 0.583333  "
      ]
     },
     "execution_count": 16,
     "metadata": {},
     "output_type": "execute_result"
    }
   ],
   "source": [
    "df_white_wins = df[df['winner'] == 'white']\n",
    "white_wins_per_opening = df_white_wins.groupby(['opening_name', 'opening_eco']).size().reset_index(name='white_wins')\n",
    "df_opening_usage = df_opening_usage.merge(white_wins_per_opening, on=['opening_name', 'opening_eco'], how='left')\n",
    "df_opening_usage['white_wins'].fillna(0, inplace=True)\n",
    "df_opening_usage['win_percentage_as_white'] = df_opening_usage['white_wins'] / df_opening_usage['count']\n",
    "df_opening_usage.head()"
   ]
  },
  {
   "cell_type": "markdown",
   "metadata": {},
   "source": [
    "Let's do the same for black. "
   ]
  },
  {
   "cell_type": "code",
   "execution_count": null,
   "metadata": {},
   "outputs": [
    {
     "data": {
      "text/html": [
       "<div>\n",
       "<style scoped>\n",
       "    .dataframe tbody tr th:only-of-type {\n",
       "        vertical-align: middle;\n",
       "    }\n",
       "\n",
       "    .dataframe tbody tr th {\n",
       "        vertical-align: top;\n",
       "    }\n",
       "\n",
       "    .dataframe thead th {\n",
       "        text-align: right;\n",
       "    }\n",
       "</style>\n",
       "<table border=\"1\" class=\"dataframe\">\n",
       "  <thead>\n",
       "    <tr style=\"text-align: right;\">\n",
       "      <th></th>\n",
       "      <th>opening_name</th>\n",
       "      <th>opening_eco</th>\n",
       "      <th>count</th>\n",
       "      <th>white_wins</th>\n",
       "      <th>win_percentage_as_white</th>\n",
       "      <th>black_wins</th>\n",
       "      <th>win_percentage_as_black</th>\n",
       "    </tr>\n",
       "  </thead>\n",
       "  <tbody>\n",
       "    <tr>\n",
       "      <th>0</th>\n",
       "      <td>Sicilian Defense: Bowdler Attack</td>\n",
       "      <td>B20</td>\n",
       "      <td>256</td>\n",
       "      <td>103.0</td>\n",
       "      <td>0.402344</td>\n",
       "      <td>141.0</td>\n",
       "      <td>0.550781</td>\n",
       "    </tr>\n",
       "    <tr>\n",
       "      <th>1</th>\n",
       "      <td>French Defense: Knight Variation</td>\n",
       "      <td>C00</td>\n",
       "      <td>218</td>\n",
       "      <td>108.0</td>\n",
       "      <td>0.495413</td>\n",
       "      <td>96.0</td>\n",
       "      <td>0.440367</td>\n",
       "    </tr>\n",
       "    <tr>\n",
       "      <th>2</th>\n",
       "      <td>Van't Kruijs Opening</td>\n",
       "      <td>A00</td>\n",
       "      <td>210</td>\n",
       "      <td>68.0</td>\n",
       "      <td>0.323810</td>\n",
       "      <td>130.0</td>\n",
       "      <td>0.619048</td>\n",
       "    </tr>\n",
       "    <tr>\n",
       "      <th>3</th>\n",
       "      <td>Queen's Pawn Game: Mason Attack</td>\n",
       "      <td>D00</td>\n",
       "      <td>196</td>\n",
       "      <td>95.0</td>\n",
       "      <td>0.484694</td>\n",
       "      <td>89.0</td>\n",
       "      <td>0.454082</td>\n",
       "    </tr>\n",
       "    <tr>\n",
       "      <th>4</th>\n",
       "      <td>Scandinavian Defense: Mieses-Kotroc Variation</td>\n",
       "      <td>B01</td>\n",
       "      <td>192</td>\n",
       "      <td>112.0</td>\n",
       "      <td>0.583333</td>\n",
       "      <td>76.0</td>\n",
       "      <td>0.395833</td>\n",
       "    </tr>\n",
       "  </tbody>\n",
       "</table>\n",
       "</div>"
      ],
      "text/plain": [
       "                                    opening_name opening_eco  count  \\\n",
       "0               Sicilian Defense: Bowdler Attack         B20    256   \n",
       "1               French Defense: Knight Variation         C00    218   \n",
       "2                           Van't Kruijs Opening         A00    210   \n",
       "3                Queen's Pawn Game: Mason Attack         D00    196   \n",
       "4  Scandinavian Defense: Mieses-Kotroc Variation         B01    192   \n",
       "\n",
       "   white_wins  win_percentage_as_white  black_wins  win_percentage_as_black  \n",
       "0       103.0                 0.402344       141.0                 0.550781  \n",
       "1       108.0                 0.495413        96.0                 0.440367  \n",
       "2        68.0                 0.323810       130.0                 0.619048  \n",
       "3        95.0                 0.484694        89.0                 0.454082  \n",
       "4       112.0                 0.583333        76.0                 0.395833  "
      ]
     },
     "execution_count": 17,
     "metadata": {},
     "output_type": "execute_result"
    }
   ],
   "source": [
    "df_black_wins = df[df['winner'] == 'black']\n",
    "black_wins_per_opening = df_black_wins.groupby(['opening_name', 'opening_eco']).size().reset_index(name='black_wins')\n",
    "df_opening_usage = df_opening_usage.merge(black_wins_per_opening, on=['opening_name', 'opening_eco'], how='left')\n",
    "df_opening_usage['black_wins'].fillna(0, inplace=True)\n",
    "df_opening_usage['win_percentage_as_black'] = df_opening_usage['black_wins'] / df_opening_usage['count']\n",
    "df_opening_usage.head()"
   ]
  },
  {
   "cell_type": "markdown",
   "metadata": {},
   "source": [
    "Finally, let's determine the number of draws achieved per opening. "
   ]
  },
  {
   "cell_type": "code",
   "execution_count": null,
   "metadata": {},
   "outputs": [
    {
     "data": {
      "text/html": [
       "<div>\n",
       "<style scoped>\n",
       "    .dataframe tbody tr th:only-of-type {\n",
       "        vertical-align: middle;\n",
       "    }\n",
       "\n",
       "    .dataframe tbody tr th {\n",
       "        vertical-align: top;\n",
       "    }\n",
       "\n",
       "    .dataframe thead th {\n",
       "        text-align: right;\n",
       "    }\n",
       "</style>\n",
       "<table border=\"1\" class=\"dataframe\">\n",
       "  <thead>\n",
       "    <tr style=\"text-align: right;\">\n",
       "      <th></th>\n",
       "      <th>opening_name</th>\n",
       "      <th>opening_eco</th>\n",
       "      <th>count</th>\n",
       "      <th>white_wins</th>\n",
       "      <th>win_percentage_as_white</th>\n",
       "      <th>black_wins</th>\n",
       "      <th>win_percentage_as_black</th>\n",
       "      <th>draw</th>\n",
       "      <th>draw_percentage</th>\n",
       "    </tr>\n",
       "  </thead>\n",
       "  <tbody>\n",
       "    <tr>\n",
       "      <th>0</th>\n",
       "      <td>Sicilian Defense: Bowdler Attack</td>\n",
       "      <td>B20</td>\n",
       "      <td>256</td>\n",
       "      <td>103.0</td>\n",
       "      <td>0.402344</td>\n",
       "      <td>141.0</td>\n",
       "      <td>0.550781</td>\n",
       "      <td>12.0</td>\n",
       "      <td>0.046875</td>\n",
       "    </tr>\n",
       "    <tr>\n",
       "      <th>1</th>\n",
       "      <td>French Defense: Knight Variation</td>\n",
       "      <td>C00</td>\n",
       "      <td>218</td>\n",
       "      <td>108.0</td>\n",
       "      <td>0.495413</td>\n",
       "      <td>96.0</td>\n",
       "      <td>0.440367</td>\n",
       "      <td>14.0</td>\n",
       "      <td>0.064220</td>\n",
       "    </tr>\n",
       "    <tr>\n",
       "      <th>2</th>\n",
       "      <td>Van't Kruijs Opening</td>\n",
       "      <td>A00</td>\n",
       "      <td>210</td>\n",
       "      <td>68.0</td>\n",
       "      <td>0.323810</td>\n",
       "      <td>130.0</td>\n",
       "      <td>0.619048</td>\n",
       "      <td>12.0</td>\n",
       "      <td>0.057143</td>\n",
       "    </tr>\n",
       "    <tr>\n",
       "      <th>3</th>\n",
       "      <td>Queen's Pawn Game: Mason Attack</td>\n",
       "      <td>D00</td>\n",
       "      <td>196</td>\n",
       "      <td>95.0</td>\n",
       "      <td>0.484694</td>\n",
       "      <td>89.0</td>\n",
       "      <td>0.454082</td>\n",
       "      <td>12.0</td>\n",
       "      <td>0.061224</td>\n",
       "    </tr>\n",
       "    <tr>\n",
       "      <th>4</th>\n",
       "      <td>Scandinavian Defense: Mieses-Kotroc Variation</td>\n",
       "      <td>B01</td>\n",
       "      <td>192</td>\n",
       "      <td>112.0</td>\n",
       "      <td>0.583333</td>\n",
       "      <td>76.0</td>\n",
       "      <td>0.395833</td>\n",
       "      <td>4.0</td>\n",
       "      <td>0.020833</td>\n",
       "    </tr>\n",
       "  </tbody>\n",
       "</table>\n",
       "</div>"
      ],
      "text/plain": [
       "                                    opening_name opening_eco  count  \\\n",
       "0               Sicilian Defense: Bowdler Attack         B20    256   \n",
       "1               French Defense: Knight Variation         C00    218   \n",
       "2                           Van't Kruijs Opening         A00    210   \n",
       "3                Queen's Pawn Game: Mason Attack         D00    196   \n",
       "4  Scandinavian Defense: Mieses-Kotroc Variation         B01    192   \n",
       "\n",
       "   white_wins  win_percentage_as_white  black_wins  win_percentage_as_black  \\\n",
       "0       103.0                 0.402344       141.0                 0.550781   \n",
       "1       108.0                 0.495413        96.0                 0.440367   \n",
       "2        68.0                 0.323810       130.0                 0.619048   \n",
       "3        95.0                 0.484694        89.0                 0.454082   \n",
       "4       112.0                 0.583333        76.0                 0.395833   \n",
       "\n",
       "   draw  draw_percentage  \n",
       "0  12.0         0.046875  \n",
       "1  14.0         0.064220  \n",
       "2  12.0         0.057143  \n",
       "3  12.0         0.061224  \n",
       "4   4.0         0.020833  "
      ]
     },
     "execution_count": 21,
     "metadata": {},
     "output_type": "execute_result"
    }
   ],
   "source": [
    "df_draw = df[df['winner'] == 'draw']\n",
    "draw_per_opening = df_draw.groupby(['opening_name', 'opening_eco']).size().reset_index(name='draw')\n",
    "df_opening_usage = df_opening_usage.merge(draw_per_opening, on=['opening_name', 'opening_eco'], how='left')\n",
    "df_opening_usage['draw'].fillna(0, inplace=True)\n",
    "df_opening_usage['draw_percentage'] = df_opening_usage['draw'] / df_opening_usage['count']\n",
    "df_opening_usage.head()"
   ]
  },
  {
   "cell_type": "markdown",
   "metadata": {},
   "source": [
    "We can now see the top 10 most used openings. "
   ]
  },
  {
   "cell_type": "code",
   "execution_count": null,
   "metadata": {},
   "outputs": [
    {
     "data": {
      "text/html": [
       "<div>\n",
       "<style scoped>\n",
       "    .dataframe tbody tr th:only-of-type {\n",
       "        vertical-align: middle;\n",
       "    }\n",
       "\n",
       "    .dataframe tbody tr th {\n",
       "        vertical-align: top;\n",
       "    }\n",
       "\n",
       "    .dataframe thead th {\n",
       "        text-align: right;\n",
       "    }\n",
       "</style>\n",
       "<table border=\"1\" class=\"dataframe\">\n",
       "  <thead>\n",
       "    <tr style=\"text-align: right;\">\n",
       "      <th></th>\n",
       "      <th>opening_name</th>\n",
       "      <th>opening_eco</th>\n",
       "      <th>count</th>\n",
       "      <th>white_wins</th>\n",
       "      <th>win_percentage_as_white</th>\n",
       "      <th>black_wins</th>\n",
       "      <th>win_percentage_as_black</th>\n",
       "      <th>draw</th>\n",
       "      <th>draw_percentage</th>\n",
       "    </tr>\n",
       "  </thead>\n",
       "  <tbody>\n",
       "    <tr>\n",
       "      <th>0</th>\n",
       "      <td>Sicilian Defense: Bowdler Attack</td>\n",
       "      <td>B20</td>\n",
       "      <td>256</td>\n",
       "      <td>103.0</td>\n",
       "      <td>0.402344</td>\n",
       "      <td>141.0</td>\n",
       "      <td>0.550781</td>\n",
       "      <td>12.0</td>\n",
       "      <td>0.046875</td>\n",
       "    </tr>\n",
       "    <tr>\n",
       "      <th>1</th>\n",
       "      <td>French Defense: Knight Variation</td>\n",
       "      <td>C00</td>\n",
       "      <td>218</td>\n",
       "      <td>108.0</td>\n",
       "      <td>0.495413</td>\n",
       "      <td>96.0</td>\n",
       "      <td>0.440367</td>\n",
       "      <td>14.0</td>\n",
       "      <td>0.064220</td>\n",
       "    </tr>\n",
       "    <tr>\n",
       "      <th>2</th>\n",
       "      <td>Van't Kruijs Opening</td>\n",
       "      <td>A00</td>\n",
       "      <td>210</td>\n",
       "      <td>68.0</td>\n",
       "      <td>0.323810</td>\n",
       "      <td>130.0</td>\n",
       "      <td>0.619048</td>\n",
       "      <td>12.0</td>\n",
       "      <td>0.057143</td>\n",
       "    </tr>\n",
       "    <tr>\n",
       "      <th>3</th>\n",
       "      <td>Queen's Pawn Game: Mason Attack</td>\n",
       "      <td>D00</td>\n",
       "      <td>196</td>\n",
       "      <td>95.0</td>\n",
       "      <td>0.484694</td>\n",
       "      <td>89.0</td>\n",
       "      <td>0.454082</td>\n",
       "      <td>12.0</td>\n",
       "      <td>0.061224</td>\n",
       "    </tr>\n",
       "    <tr>\n",
       "      <th>4</th>\n",
       "      <td>Scandinavian Defense: Mieses-Kotroc Variation</td>\n",
       "      <td>B01</td>\n",
       "      <td>192</td>\n",
       "      <td>112.0</td>\n",
       "      <td>0.583333</td>\n",
       "      <td>76.0</td>\n",
       "      <td>0.395833</td>\n",
       "      <td>4.0</td>\n",
       "      <td>0.020833</td>\n",
       "    </tr>\n",
       "    <tr>\n",
       "      <th>5</th>\n",
       "      <td>Horwitz Defense</td>\n",
       "      <td>A40</td>\n",
       "      <td>161</td>\n",
       "      <td>87.0</td>\n",
       "      <td>0.540373</td>\n",
       "      <td>71.0</td>\n",
       "      <td>0.440994</td>\n",
       "      <td>3.0</td>\n",
       "      <td>0.018634</td>\n",
       "    </tr>\n",
       "    <tr>\n",
       "      <th>6</th>\n",
       "      <td>Italian Game: Anti-Fried Liver Defense</td>\n",
       "      <td>C55</td>\n",
       "      <td>151</td>\n",
       "      <td>79.0</td>\n",
       "      <td>0.523179</td>\n",
       "      <td>65.0</td>\n",
       "      <td>0.430464</td>\n",
       "      <td>7.0</td>\n",
       "      <td>0.046358</td>\n",
       "    </tr>\n",
       "    <tr>\n",
       "      <th>7</th>\n",
       "      <td>Scandinavian Defense</td>\n",
       "      <td>B01</td>\n",
       "      <td>150</td>\n",
       "      <td>64.0</td>\n",
       "      <td>0.426667</td>\n",
       "      <td>77.0</td>\n",
       "      <td>0.513333</td>\n",
       "      <td>9.0</td>\n",
       "      <td>0.060000</td>\n",
       "    </tr>\n",
       "    <tr>\n",
       "      <th>8</th>\n",
       "      <td>Philidor Defense #3</td>\n",
       "      <td>C41</td>\n",
       "      <td>148</td>\n",
       "      <td>94.0</td>\n",
       "      <td>0.635135</td>\n",
       "      <td>51.0</td>\n",
       "      <td>0.344595</td>\n",
       "      <td>3.0</td>\n",
       "      <td>0.020270</td>\n",
       "    </tr>\n",
       "    <tr>\n",
       "      <th>9</th>\n",
       "      <td>Philidor Defense #2</td>\n",
       "      <td>C41</td>\n",
       "      <td>146</td>\n",
       "      <td>67.0</td>\n",
       "      <td>0.458904</td>\n",
       "      <td>71.0</td>\n",
       "      <td>0.486301</td>\n",
       "      <td>8.0</td>\n",
       "      <td>0.054795</td>\n",
       "    </tr>\n",
       "  </tbody>\n",
       "</table>\n",
       "</div>"
      ],
      "text/plain": [
       "                                    opening_name opening_eco  count  \\\n",
       "0               Sicilian Defense: Bowdler Attack         B20    256   \n",
       "1               French Defense: Knight Variation         C00    218   \n",
       "2                           Van't Kruijs Opening         A00    210   \n",
       "3                Queen's Pawn Game: Mason Attack         D00    196   \n",
       "4  Scandinavian Defense: Mieses-Kotroc Variation         B01    192   \n",
       "5                                Horwitz Defense         A40    161   \n",
       "6         Italian Game: Anti-Fried Liver Defense         C55    151   \n",
       "7                           Scandinavian Defense         B01    150   \n",
       "8                            Philidor Defense #3         C41    148   \n",
       "9                            Philidor Defense #2         C41    146   \n",
       "\n",
       "   white_wins  win_percentage_as_white  black_wins  win_percentage_as_black  \\\n",
       "0       103.0                 0.402344       141.0                 0.550781   \n",
       "1       108.0                 0.495413        96.0                 0.440367   \n",
       "2        68.0                 0.323810       130.0                 0.619048   \n",
       "3        95.0                 0.484694        89.0                 0.454082   \n",
       "4       112.0                 0.583333        76.0                 0.395833   \n",
       "5        87.0                 0.540373        71.0                 0.440994   \n",
       "6        79.0                 0.523179        65.0                 0.430464   \n",
       "7        64.0                 0.426667        77.0                 0.513333   \n",
       "8        94.0                 0.635135        51.0                 0.344595   \n",
       "9        67.0                 0.458904        71.0                 0.486301   \n",
       "\n",
       "   draw  draw_percentage  \n",
       "0  12.0         0.046875  \n",
       "1  14.0         0.064220  \n",
       "2  12.0         0.057143  \n",
       "3  12.0         0.061224  \n",
       "4   4.0         0.020833  \n",
       "5   3.0         0.018634  \n",
       "6   7.0         0.046358  \n",
       "7   9.0         0.060000  \n",
       "8   3.0         0.020270  \n",
       "9   8.0         0.054795  "
      ]
     },
     "execution_count": 22,
     "metadata": {},
     "output_type": "execute_result"
    }
   ],
   "source": [
    "df_opening_usage.head(10)"
   ]
  },
  {
   "cell_type": "markdown",
   "metadata": {},
   "source": [
    "Before we further breakdown the data, let's determine how many games are `bullet`, `blitz`, `rapid`, and `classical`. "
   ]
  },
  {
   "cell_type": "code",
   "execution_count": null,
   "metadata": {},
   "outputs": [
    {
     "data": {
      "text/plain": [
       "time_control\n",
       "bullet       9533\n",
       "blitz        3842\n",
       "rapid        1420\n",
       "classical     221\n",
       "Name: count, dtype: int64"
      ]
     },
     "execution_count": 25,
     "metadata": {},
     "output_type": "execute_result"
    }
   ],
   "source": [
    "time_control_games = df['time_control'].value_counts()\n",
    "time_control_games"
   ]
  },
  {
   "cell_type": "markdown",
   "metadata": {},
   "source": []
  },
  {
   "cell_type": "markdown",
   "metadata": {},
   "source": [
    "## **References**\n",
    "* https://lichess.org/faq#time-controls\n",
    "* https://lichess.org/forum/general-chess-discussion/what-is-a-good-lichess-rating\n",
    "* https://www.kaggle.com/datasets/datasnaek/chess"
   ]
  },
  {
   "cell_type": "markdown",
   "metadata": {},
   "source": []
  }
 ],
 "metadata": {
  "kernelspec": {
   "display_name": "Python 3",
   "language": "python",
   "name": "python3"
  },
  "language_info": {
   "codemirror_mode": {
    "name": "ipython",
    "version": 3
   },
   "file_extension": ".py",
   "mimetype": "text/x-python",
   "name": "python",
   "nbconvert_exporter": "python",
   "pygments_lexer": "ipython3",
   "version": "3.10.12"
  }
 },
 "nbformat": 4,
 "nbformat_minor": 2
}
